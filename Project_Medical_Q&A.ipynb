{
 "cells": [
  {
   "cell_type": "markdown",
   "metadata": {},
   "source": [
    "# Medical chat bot/Q&A"
   ]
  },
  {
   "cell_type": "markdown",
   "metadata": {},
   "source": [
    "### Submitted by: Ani Khvadagiani"
   ]
  },
  {
   "cell_type": "markdown",
   "metadata": {},
   "source": [
    "-----------------------------"
   ]
  },
  {
   "cell_type": "markdown",
   "metadata": {},
   "source": [
    "#### Team ABC has decided to work on the following project: "
   ]
  },
  {
   "cell_type": "markdown",
   "metadata": {},
   "source": [
    "### Goal and the description:"
   ]
  },
  {
   "cell_type": "markdown",
   "metadata": {},
   "source": [
    "##### In today's healthcare landscape, navigating vast amounts of medical data from various sources is a common challenge for both patients and medical professionals. This often leads to inefficiencies, delayed decision-making, and increased stress. To address these issues, we propose developing a comprehensive Medical Data Chatbot Ecosystem. This intelligent and user-friendly chatbot will unify and streamline access to medical information, providing users with accurate answers effortlessly, all within a single system.\n",
    "\n",
    "##### Our primary goal is to launch this innovative solution in poorer countries, with a particular focus on Africa. By creating a multilingual chatbot, we aim to break down language barriers and ensure that users can interact with the system in their preferred language, making medical information accessible to a wider audience.\n",
    "\n",
    "##### The Medical Data Chatbot Ecosystem will in the future integrate data from multiple sources, such as electronic health records, medical journals, and drug databases. Using advanced natural language processing (NLP) techniques, the chatbot will understand and respond to user queries in everyday language. It will offer personalized responses based on user profiles and specific medical contexts, and support both text and voice interactions to fit to different user preferences.\n",
    "\n",
    "##### By providing a centralized and intelligent platform, our chatbot will offer significant benefits. Patients will receive quick answers to health-related questions, improving self-care and their understanding of medical conditions. Doctors will gain instant access to comprehensive medical data, aiding in diagnosis and treatment decisions. Researchers will find it easier to retrieve data and trends, facilitating medical advancements.\n",
    "\n",
    "##### To implement this project, we will follow a structured plan. In the first phase, we will conduct market research and needs assessment, identify key data sources, and define technical specifications. In the second phase, we will develop the chatbot framework, integrate NLP capabilities, and establish secure connections with data sources. The third phase will involve rigorous testing to ensure accuracy, reliability, and security, followed by gathering feedback from a pilot group of users for further refinement.\n",
    "\n",
    "##### By launching this Medical Data Chatbot Ecosystem, we aim to revolutionize how medical information is accessed and utilized, particularly in resource-limited settings. This project represents a significant step towards improving healthcare outcomes and efficiency, ultimately making a positive impact on communities in Africa and beyond."
   ]
  },
  {
   "cell_type": "markdown",
   "metadata": {},
   "source": [
    "___________________"
   ]
  },
  {
   "cell_type": "markdown",
   "metadata": {},
   "source": [
    "#### Import Libraries:"
   ]
  },
  {
   "cell_type": "code",
   "execution_count": 1,
   "metadata": {},
   "outputs": [],
   "source": [
    "import requests\n",
    "import pandas as pd\n",
    "from tqdm.auto import tqdm\n",
    "import torch\n",
    "from sentence_transformers import SentenceTransformer\n",
    "from transformers import BartTokenizer, BartForConditionalGeneration\n",
    "import os\n",
    "from pinecone import Pinecone, ServerlessSpec\n",
    "import time\n",
    "from googletrans import Translator\n",
    "import warnings\n"
   ]
  },
  {
   "cell_type": "markdown",
   "metadata": {},
   "source": [
    "#### For the purpose of building a demo application, data on certain diseases has been retrieved from Wikipedia. The list of diseases is provided below. More can be added later if needed."
   ]
  },
  {
   "cell_type": "code",
   "execution_count": 2,
   "metadata": {},
   "outputs": [],
   "source": [
    "common_diseases = [\n",
    "    \"Common cold\",\n",
    "    \"Influenza\",\n",
    "    \"COVID-19\",\n",
    "    \"Hypertension\",\n",
    "    \"Diabetes mellitus\",\n",
    "    \"Asthma\",\n",
    "    \"Coronary artery disease\",\n",
    "    \"Depression\",\n",
    "    \"Anxiety disorder\",\n",
    "    \"Stroke\",\n",
    "    \"Cancer\",\n",
    "    \"Osteoarthritis\",\n",
    "    \"Rheumatoid arthritis\",\n",
    "    \"Chronic obstructive pulmonary disease\",\n",
    "    \"Chronic kidney disease\",\n",
    "    \"Hepatitis B\",\n",
    "    \"Hepatitis C\",\n",
    "    \"Tuberculosis\",\n",
    "    \"Malaria\",\n",
    "    \"HIV/AIDS\",\n",
    "    \"Pneumonia\",\n",
    "    \"Urinary tract infection\",\n",
    "    \"Gastroesophageal reflux disease\",\n",
    "    \"Peptic ulcer disease\",\n",
    "    \"Gout\",\n",
    "    \"Allergy\",\n",
    "    \"Eczema\",\n",
    "    \"Psoriasis\",\n",
    "    \"Irritable bowel syndrome\",\n",
    "    \"Crohn's disease\",\n",
    "    \"Ulcerative colitis\",\n",
    "    \"Endometriosis\",\n",
    "    \"Polycystic ovary syndrome\",\n",
    "    \"Benign prostatic hyperplasia\",\n",
    "    \"Erectile dysfunction\",\n",
    "    \"Fibromyalgia\",\n",
    "    \"Chronic fatigue syndrome\",\n",
    "    \"Thyroid disorder\",\n",
    "    \"Anemia\",\n",
    "    \"Osteoporosis\",\n",
    "    \"Sickle cell disease\",\n",
    "    \"Attention deficit hyperactivity disorder\",\n",
    "    \"Autism spectrum disorder\",\n",
    "    \"Schizophrenia\",\n",
    "    \"Bipolar disorder\",\n",
    "    \"Obsessive-compulsive disorder\",\n",
    "    \"Alzheimer's disease\",\n",
    "    \"Parkinson's disease\",\n",
    "    \"Multiple sclerosis\",\n",
    "    \"Epilepsy\",\n",
    "    \"Migraine\",\n",
    "    \"Kidney stones\",\n",
    "    \"Pancreatitis\",\n",
    "    \"Gastritis\",\n",
    "    \"Bronchitis\",\n",
    "    \"Cystitis\",\n",
    "    \"Prostatitis\",\n",
    "    \"Appendicitis\",\n",
    "    \"Tonsillitis\",\n",
    "    \"Rhinitis\",\n",
    "    \"Laryngitis\",\n",
    "    \"Thyroiditis\",\n",
    "    \"Colitis\",\n",
    "    \"Enterocolitis\",\n",
    "    \"Ileitis\",\n",
    "    \"Pharyngitis\",\n",
    "    \"Esophagitis\",\n",
    "    \"Pericarditis\",\n",
    "    \"Myocarditis\",\n",
    "    \"Endocarditis\",\n",
    "    \"Pleurisy\",\n",
    "    \"Bronchopneumonia\",\n",
    "    \"Herpes infection\",\n",
    "    \"Influenza\",\n",
    "    \"Adenovirus infection\",\n",
    "    \"Coronavirus infection\",\n",
    "    \"Canine parvovirus\",\n",
    "    \"Cytomegalovirus infection\",\n",
    "    \"Epstein-Barr virus infection\",\n",
    "    \"Human herpesvirus 6\",\n",
    "    \"Rubivirus infection\",\n",
    "    \"Hepatitis A\",\n",
    "    \"Mononucleosis\",\n",
    "    ]\n"
   ]
  },
  {
   "cell_type": "markdown",
   "metadata": {},
   "source": [
    "### In this step, we focus on retrieving descriptions of various diseases from Wikipedia using its API. This is crucial for building a comprehensive dataset that can be used for various applications, such as an informational chatbot or a medical information system. The process involves defining the API endpoint, creating a function to fetch the descriptions, and iterating over a list of common diseases to compile their descriptions."
   ]
  },
  {
   "cell_type": "code",
   "execution_count": 3,
   "metadata": {},
   "outputs": [
    {
     "name": "stdout",
     "output_type": "stream",
     "text": [
      "Processed: Common cold\n",
      "Processed: Influenza\n",
      "Processed: COVID-19\n",
      "Processed: Hypertension\n",
      "Processed: Diabetes mellitus\n",
      "Processed: Asthma\n",
      "Processed: Coronary artery disease\n",
      "Processed: Depression\n",
      "Processed: Anxiety disorder\n",
      "Processed: Stroke\n",
      "Processed: Cancer\n",
      "Processed: Osteoarthritis\n",
      "Processed: Rheumatoid arthritis\n",
      "Processed: Chronic obstructive pulmonary disease\n",
      "Processed: Chronic kidney disease\n",
      "Processed: Hepatitis B\n",
      "Processed: Hepatitis C\n",
      "Processed: Tuberculosis\n",
      "Processed: Malaria\n",
      "Processed: HIV/AIDS\n",
      "Processed: Pneumonia\n",
      "Processed: Urinary tract infection\n",
      "Processed: Gastroesophageal reflux disease\n",
      "Processed: Peptic ulcer disease\n",
      "Processed: Gout\n",
      "Processed: Allergy\n",
      "Processed: Eczema\n",
      "Processed: Psoriasis\n",
      "Processed: Irritable bowel syndrome\n",
      "Processed: Crohn's disease\n",
      "Processed: Ulcerative colitis\n",
      "Processed: Endometriosis\n",
      "Processed: Polycystic ovary syndrome\n",
      "Processed: Benign prostatic hyperplasia\n",
      "Processed: Erectile dysfunction\n",
      "Processed: Fibromyalgia\n",
      "Processed: Chronic fatigue syndrome\n",
      "Processed: Thyroid disorder\n",
      "Processed: Anemia\n",
      "Processed: Osteoporosis\n",
      "Processed: Sickle cell disease\n",
      "Processed: Attention deficit hyperactivity disorder\n",
      "Processed: Autism spectrum disorder\n",
      "Processed: Schizophrenia\n",
      "Processed: Bipolar disorder\n",
      "Processed: Obsessive-compulsive disorder\n",
      "Processed: Alzheimer's disease\n",
      "Processed: Parkinson's disease\n",
      "Processed: Multiple sclerosis\n",
      "Processed: Epilepsy\n",
      "Processed: Migraine\n",
      "Processed: Kidney stones\n",
      "Processed: Pancreatitis\n",
      "Processed: Gastritis\n",
      "Processed: Bronchitis\n",
      "Processed: Cystitis\n",
      "Processed: Prostatitis\n",
      "Processed: Appendicitis\n",
      "Processed: Tonsillitis\n",
      "Processed: Rhinitis\n",
      "Processed: Laryngitis\n",
      "Processed: Thyroiditis\n",
      "Processed: Colitis\n",
      "Processed: Enterocolitis\n",
      "Processed: Ileitis\n",
      "Processed: Pharyngitis\n",
      "Processed: Esophagitis\n",
      "Processed: Pericarditis\n",
      "Processed: Myocarditis\n",
      "Processed: Endocarditis\n",
      "Processed: Pleurisy\n",
      "Processed: Bronchopneumonia\n",
      "Processed: Herpes infection\n",
      "Processed: Influenza\n",
      "Processed: Adenovirus infection\n",
      "Processed: Coronavirus infection\n",
      "Processed: Canine parvovirus\n",
      "Processed: Cytomegalovirus infection\n",
      "Processed: Epstein-Barr virus infection\n",
      "Processed: Human herpesvirus 6\n",
      "Processed: Rubivirus infection\n",
      "Processed: Hepatitis A\n",
      "Processed: Mononucleosis\n"
     ]
    }
   ],
   "source": [
    "# Wikipedia API endpoint\n",
    "WIKI_API_URL = \"https://en.wikipedia.org/w/api.php\"\n",
    "\n",
    "# Function to fetch disease descriptions from Wikipedia\n",
    "def get_disease_description(disease):\n",
    "    try:\n",
    "        params = {\n",
    "            'action': 'query',\n",
    "            'format': 'json',\n",
    "            'titles': disease,\n",
    "            'prop': 'extracts',\n",
    "            'explaintext': True\n",
    "        }\n",
    "        response = requests.get(WIKI_API_URL, params=params)\n",
    "        response.raise_for_status()\n",
    "        data = response.json()\n",
    "        page = next(iter(data['query']['pages'].values()))\n",
    "        return page.get('extract', None)\n",
    "    except Exception as e:\n",
    "        print(f\"An error occurred for {disease}: {e}\")\n",
    "        return None\n",
    "\n",
    "# Fetch descriptions for each disease\n",
    "disease_data = []\n",
    "for disease in common_diseases:\n",
    "    print(f\"Processed: {disease}\")\n",
    "    description = get_disease_description(disease)\n",
    "    if description:\n",
    "        disease_data.append([disease, description])\n"
   ]
  },
  {
   "cell_type": "markdown",
   "metadata": {},
   "source": [
    "#### After fetching the descriptions for each disease from the list above we form a dataframe:"
   ]
  },
  {
   "cell_type": "code",
   "execution_count": 4,
   "metadata": {},
   "outputs": [],
   "source": [
    "df = pd.DataFrame(disease_data, columns=[\"Name\", \"Description\"])"
   ]
  },
  {
   "cell_type": "markdown",
   "metadata": {},
   "source": [
    "#### Since we do not manually check the volume of generated data, it is important to see how large it actually is. Sometimes, Wikipedia provides immense data on a topic, making it difficult to process. Therefore, we need to observe the fluctuations in the number of characters in each generated textual description of the disease."
   ]
  },
  {
   "cell_type": "code",
   "execution_count": 5,
   "metadata": {},
   "outputs": [
    {
     "data": {
      "text/plain": [
       "(<Axes: xlabel='Name'>,)"
      ]
     },
     "execution_count": 5,
     "metadata": {},
     "output_type": "execute_result"
    },
    {
     "data": {
      "image/png": "[encoded data removed]",
      "text/plain": [
       "<Figure size 1500x500 with 1 Axes>"
      ]
     },
     "metadata": {},
     "output_type": "display_data"
    }
   ],
   "source": [
    "# Function to calculate description length\n",
    "df['Description_Length'] = df['Description'].apply(len)\n",
    "\n",
    "description_lengths = df[['Name', 'Description_Length']]\n",
    "\n",
    "# Visualizing the number of characters in each disease description by a simple chart:\n",
    "description_lengths.plot(kind='bar', x='Name', y='Description_Length', legend=False, figsize=(15,5)),\n"
   ]
  },
  {
   "cell_type": "markdown",
   "metadata": {},
   "source": [
    "#### According to the graph, the length of articles varies from less than 10,000 to more than 80,000 characters. Although it is more convenient to work with the original form, for the sake of this demo version being fast and observable, we will work with relatively shorter data. Therefore, in the script below, we cut the length to 5,000 characters."
   ]
  },
  {
   "cell_type": "code",
   "execution_count": 6,
   "metadata": {},
   "outputs": [],
   "source": [
    "# Function to truncate descriptions\n",
    "def truncate_description(description, word_limit):\n",
    "    words = description.split()\n",
    "    return ' '.join(words[:word_limit]) if len(words) > word_limit else description\n",
    "\n",
    "# Apply truncation\n",
    "word_limit = 5000\n",
    "df['Description'] = df['Description'].apply(lambda x: truncate_description(x, word_limit))"
   ]
  },
  {
   "cell_type": "markdown",
   "metadata": {},
   "source": [
    "#### In this step, we initialize a list docs to store dictionaries containing article titles and truncated passage texts. We use the tqdm library to provide a progress bar during iteration over rows in the DataFrame df. For each row, we extract the disease name and description to the first 5000 characters. "
   ]
  },
  {
   "cell_type": "code",
   "execution_count": 7,
   "metadata": {},
   "outputs": [
    {
     "data": {
      "application/vnd.jupyter.widget-view+json": {
       "model_id": "f8cadcc0dcaf47d486591509677a6758",
       "version_major": 2,
       "version_minor": 0
      },
      "text/plain": [
       "Processing:   0%|          | 0/69 [00:00<?, ?it/s]"
      ]
     },
     "metadata": {},
     "output_type": "display_data"
    },
    {
     "data": {
      "text/html": [
       "<div>\n",
       "<style scoped>\n",
       "    .dataframe tbody tr th:only-of-type {\n",
       "        vertical-align: middle;\n",
       "    }\n",
       "\n",
       "    .dataframe tbody tr th {\n",
       "        vertical-align: top;\n",
       "    }\n",
       "\n",
       "    .dataframe thead th {\n",
       "        text-align: right;\n",
       "    }\n",
       "</style>\n",
       "<table border=\"1\" class=\"dataframe\">\n",
       "  <thead>\n",
       "    <tr style=\"text-align: right;\">\n",
       "      <th></th>\n",
       "      <th>article_title</th>\n",
       "      <th>passage_text</th>\n",
       "    </tr>\n",
       "  </thead>\n",
       "  <tbody>\n",
       "    <tr>\n",
       "      <th>0</th>\n",
       "      <td>Common cold</td>\n",
       "      <td>The common cold or the cold is a viral infecti...</td>\n",
       "    </tr>\n",
       "    <tr>\n",
       "      <th>1</th>\n",
       "      <td>Influenza</td>\n",
       "      <td>Influenza, commonly known as \"the flu\" or just...</td>\n",
       "    </tr>\n",
       "    <tr>\n",
       "      <th>2</th>\n",
       "      <td>COVID-19</td>\n",
       "      <td>Coronavirus disease 2019 (COVID-19) is a conta...</td>\n",
       "    </tr>\n",
       "    <tr>\n",
       "      <th>3</th>\n",
       "      <td>Hypertension</td>\n",
       "      <td>Hypertension, also known as high blood pressur...</td>\n",
       "    </tr>\n",
       "    <tr>\n",
       "      <th>4</th>\n",
       "      <td>Asthma</td>\n",
       "      <td>Asthma is a long-term inflammatory disease of ...</td>\n",
       "    </tr>\n",
       "  </tbody>\n",
       "</table>\n",
       "</div>"
      ],
      "text/plain": [
       "  article_title                                       passage_text\n",
       "0   Common cold  The common cold or the cold is a viral infecti...\n",
       "1     Influenza  Influenza, commonly known as \"the flu\" or just...\n",
       "2      COVID-19  Coronavirus disease 2019 (COVID-19) is a conta...\n",
       "3  Hypertension  Hypertension, also known as high blood pressur...\n",
       "4        Asthma  Asthma is a long-term inflammatory disease of ..."
      ]
     },
     "execution_count": 7,
     "metadata": {},
     "output_type": "execute_result"
    }
   ],
   "source": [
    "docs = []\n",
    "for index, row in tqdm(df.iterrows(), total=len(df), desc=\"Processing\"):\n",
    "    doc = {\n",
    "        \"article_title\": row[\"Name\"],\n",
    "        \"passage_text\": row[\"Description\"]\n",
    "    }\n",
    "    docs.append(doc)\n",
    "\n",
    "df = pd.DataFrame(docs)\n",
    "df.head()"
   ]
  },
  {
   "cell_type": "markdown",
   "metadata": {},
   "source": [
    " #### The project initializes Pinecone, a service designed for managing vector embeddings efficiently. Using an API key for authentication, Pinecone is configured to operate on AWS in the us-east-1 region. The script creates index with dimensions set at 768 and a cosine similarity metric. The index creation is followed by a wait period to ensure it's ready for use. This setup is significant as it establishes the foundation for storing and querying disease description embeddings swiftly and effectively, essential for the project's question-answering capabilities.\n",
    "\n",
    "#### **Remark:**\n",
    "In the context of building a chatbot for medical data retrieval from multiple sources, Pinecone offers several advantages that make it particularly suitable. Most importantly efficient Vector Search: Pinecone specializes in vector similarity search, which is crucial for retrieving relevant medical information based on semantic similarities. This capability allows the chatbot to quickly find and present the most relevant answers from a large dataset, enhancing user experience by providing quick and accurate responses."
   ]
  },
  {
   "cell_type": "code",
   "execution_count": 8,
   "metadata": {},
   "outputs": [],
   "source": [
    "api_key = \"51a18e49-24b1-4814-a3de-2e6a11cc1e83\"\n",
    "pc = Pinecone(api_key=api_key)\n",
    "cloud = 'aws'\n",
    "region = 'us-east-1'\n",
    "spec = ServerlessSpec(cloud=cloud, region=region)\n",
    "index_name = \"abstractive-question-answering-3\"\n",
    "\n",
    "if index_name not in pc.list_indexes().names():\n",
    "    pc.create_index(index_name, dimension=768, metric='cosine', spec=spec)\n",
    "    while not pc.describe_index(index_name).status['ready']:\n",
    "        time.sleep(1)\n",
    "\n",
    "index = pc.Index(index_name)"
   ]
  },
  {
   "cell_type": "markdown",
   "metadata": {},
   "source": [
    "#### Following to that, we initialize a retriever model using the SentenceTransformer library. This model, named \"flax-sentence-embeddings/all_datasets_v3_mpnet-base,\" is designed to generate embeddings (numerical representations) of sentences or passages of text. By specifying device='cuda' if torch.cuda.is_available() else 'cpu', we ensure that the model utilizes GPU acceleration if a compatible GPU is available; otherwise, it defaults to CPU."
   ]
  },
  {
   "cell_type": "code",
   "execution_count": 9,
   "metadata": {},
   "outputs": [],
   "source": [
    "warnings.filterwarnings(\"ignore\")\n",
    "\n",
    "device = 'cuda' if torch.cuda.is_available() else 'cpu'\n",
    "retriever = SentenceTransformer(\"flax-sentence-embeddings/all_datasets_v3_mpnet-base\", device=device)\n",
    "\n",
    "warnings.filterwarnings(\"ignore\")"
   ]
  },
  {
   "cell_type": "markdown",
   "metadata": {},
   "source": [
    "Down below we process the documents prepared in Steps utilizing Pinecone's capabilities for efficient vector storage and retrieval.\n",
    "\n",
    "We iterate over the DataFrame 'df' in batches (defined by batch_size = 64), encoding each batch's textual passages into embeddings using the retriever model initialized. These embeddings convert the textual data into numerical representations that capture semantic meanings and similarities.\n",
    "\n",
    "For each batch:\n",
    "1. We extract the passages from the DataFrame and encode them into embeddings.\n",
    "2. Metadata about each passage (such as article title and truncated description) is extracted and converted into dictionaries.\n",
    "3. Unique IDs are assigned to each document for identification and management within Pinecone.\n",
    "4. The embeddings, metadata, and IDs are wrapped into 'to_upsert' lists, which are then uploaded or updated in the Pinecone index using 'index.upsert(vectors=to_upsert)'.\n",
    "\n",
    "This step ensures that the chatbot's knowledge base remains current and optimized for fast and accurate retrieval of medical information based on user queries. By leveraging Pinecone's infrastructure and the powerful semantic embeddings from SentenceTransformer, the chatbot can efficiently handle diverse queries and provide relevant responses in real-time."
   ]
  },
  {
   "cell_type": "code",
   "execution_count": 10,
   "metadata": {},
   "outputs": [
    {
     "data": {
      "application/vnd.jupyter.widget-view+json": {
       "model_id": "10363b1b76714c76b0c8366d0c155eab",
       "version_major": 2,
       "version_minor": 0
      },
      "text/plain": [
       "  0%|          | 0/2 [00:00<?, ?it/s]"
      ]
     },
     "metadata": {},
     "output_type": "display_data"
    }
   ],
   "source": [
    "# Upsert Documents to Pinecone\n",
    "batch_size = 64\n",
    "for i in tqdm(range(0, len(df), batch_size)):\n",
    "    i_end = min(i + batch_size, len(df))\n",
    "    batch = df.iloc[i:i_end]\n",
    "    emb = retriever.encode(batch[\"passage_text\"].tolist()).tolist()\n",
    "    meta = batch.to_dict(orient=\"records\")\n",
    "    ids = [f\"{idx}\" for idx in range(i, i_end)]\n",
    "    to_upsert = list(zip(ids, emb, meta))\n",
    "    _ = index.upsert(vectors=to_upsert)"
   ]
  },
  {
   "cell_type": "code",
   "execution_count": 11,
   "metadata": {},
   "outputs": [
    {
     "data": {
      "text/plain": [
       "{'dimension': 768,\n",
       " 'index_fullness': 0.0,\n",
       " 'namespaces': {'': {'vector_count': 69}},\n",
       " 'total_vector_count': 69}"
      ]
     },
     "execution_count": 11,
     "metadata": {},
     "output_type": "execute_result"
    }
   ],
   "source": [
    "# Check index stats\n",
    "index.describe_index_stats()"
   ]
  },
  {
   "cell_type": "markdown",
   "metadata": {},
   "source": [
    "- The embeddings are 768-dimensional vectors.\n",
    "\n",
    "- index_fullness value of 0.0 suggests that the index is not fully utilized yet.\n",
    "\n",
    "- 69 vectors indexed under this namespace.\n",
    "\n",
    "- total_vector_count: here, it confirms that there are 69 vectors in total."
   ]
  },
  {
   "cell_type": "markdown",
   "metadata": {},
   "source": [
    "#### This step below involves initializing the BART tokenizer and model, which are essential for natural language processing tasks such as question answering and summarization. The BART tokenizer converts text into tokens that the model understands, while the BART model itself generates responses or summaries based on those tokens. This step is crucial as it enables the application to process and generate meaningful responses to user queries, leveraging state-of-the-art language model capabilities for effective communication and information retrieval."
   ]
  },
  {
   "cell_type": "code",
   "execution_count": 12,
   "metadata": {},
   "outputs": [],
   "source": [
    "# Load BART Tokenizer and Model\n",
    "tokenizer = BartTokenizer.from_pretrained('vblagoje/bart_lfqa')\n",
    "generator = BartForConditionalGeneration.from_pretrained('vblagoje/bart_lfqa').to(device)\n",
    "warnings.filterwarnings(\"ignore\")"
   ]
  },
  {
   "cell_type": "markdown",
   "metadata": {},
   "source": [
    "#### functions below collectively facilitate the question answering process using Pinecone, BART models, and the SentenceTransformer retriever:"
   ]
  },
  {
   "cell_type": "code",
   "execution_count": 13,
   "metadata": {},
   "outputs": [
    {
     "data": {
      "text/plain": [
       "\"Tokenizes the formatted query, feeds it into the BART model to generate a response,\\n   and decodes the model's output to provide a human-readable answer.\\n   This function completes the end-to-end process of answering questions based on the input query and relevant context retrieved from Pinecone.\""
      ]
     },
     "execution_count": 13,
     "metadata": {},
     "output_type": "execute_result"
    }
   ],
   "source": [
    "# Function to query Pinecone\n",
    "def query_pinecone(query, top_k):\n",
    "    xq = retriever.encode([query]).tolist()\n",
    "    xc = index.query(vector=xq, top_k=top_k, include_metadata=True)\n",
    "    return xc\n",
    "\"\"\"Encodes the query using the retriever model,\n",
    "   submits it to Pinecone for vector search, retrieves the top-k matching documents, \n",
    "   and returns them along with metadata.\"\"\"\n",
    "\n",
    "# Function to format query\n",
    "def format_query(query, context):\n",
    "    context = [f\" {m['metadata']['passage_text']}\" for m in context]\n",
    "    context = \" \".join(context)\n",
    "    query = f\"question: {query} context: {context}\"\n",
    "    return query\n",
    "\"\"\" Formats the query and the retrieved context passages into a single query string\n",
    "    that the BART model can process effectively, ensuring the query context is properly structured.\"\"\"\n",
    "\n",
    "# Function to generate answer\n",
    "def generate_answer(query):\n",
    "    inputs = tokenizer([query], max_length=1024, return_tensors=\"pt\").to(device)\n",
    "    ids = generator.generate(inputs[\"input_ids\"], num_beams=2, min_length=20, max_length=38, eos_token_id=tokenizer.eos_token_id)\n",
    "    answer = tokenizer.batch_decode(ids, skip_special_tokens=True, clean_up_tokenization_spaces=False)[0]\n",
    "    return answer\n",
    "\n",
    "\"\"\"Tokenizes the formatted query, feeds it into the BART model to generate a response,\n",
    "   and decodes the model's output to provide a human-readable answer.\n",
    "   This function completes the end-to-end process of answering questions based on the input query and relevant context retrieved from Pinecone.\"\"\""
   ]
  },
  {
   "cell_type": "markdown",
   "metadata": {},
   "source": [
    "___________________________"
   ]
  },
  {
   "cell_type": "markdown",
   "metadata": {},
   "source": [
    "# Testing the model performance:"
   ]
  },
  {
   "cell_type": "markdown",
   "metadata": {},
   "source": [
    "#### Test query, the quesion to be asked:"
   ]
  },
  {
   "cell_type": "code",
   "execution_count": 14,
   "metadata": {},
   "outputs": [],
   "source": [
    "query = \"What are the symptoms of Covid-19?\""
   ]
  },
  {
   "cell_type": "markdown",
   "metadata": {},
   "source": [
    "#### Generating the answer from the model:"
   ]
  },
  {
   "cell_type": "code",
   "execution_count": 15,
   "metadata": {},
   "outputs": [
    {
     "name": "stderr",
     "output_type": "stream",
     "text": [
      "Truncation was not explicitly activated but `max_length` is provided a specific value, please use `truncation=True` to explicitly truncate examples to max length. Defaulting to 'longest_first' truncation strategy. If you encode pairs of sequences (GLUE-style) with the tokenizer you can select this strategy more precisely by providing a specific strategy to `truncation`.\n"
     ]
    },
    {
     "name": "stdout",
     "output_type": "stream",
     "text": [
      "Generated Answer: The symptoms of COVID-19 are variable but often include fever, fatigue, cough, breathing difficulties, loss of smell, and loss of taste. Some complications result in death,\n"
     ]
    }
   ],
   "source": [
    "result = query_pinecone(query, top_k=1)\n",
    "formatted_query = format_query(query, result[\"matches\"])\n",
    "\n",
    "generated_answer = generate_answer(formatted_query)\n",
    "print(\"Generated Answer:\", generated_answer)"
   ]
  },
  {
   "cell_type": "markdown",
   "metadata": {},
   "source": [
    "#### In order to check how close is the generated answer to the one in the source, we implemented the accuracy test:"
   ]
  },
  {
   "cell_type": "code",
   "execution_count": 16,
   "metadata": {},
   "outputs": [
    {
     "name": "stdout",
     "output_type": "stream",
     "text": [
      "Original Description: The symptoms of COVID-19 are variable but often include fever, fatigue, cough, breathing difficulties, loss of smell, and loss of taste. \n",
      "Similarity Score: 0.89\n"
     ]
    }
   ],
   "source": [
    "# Manually insert the original description\n",
    "original_description = \"\"\"The symptoms of COVID-19 are variable but often include fever, fatigue, cough, breathing difficulties, loss of smell, and loss of taste. \"\"\"\n",
    "\n",
    "print(\"Original Description:\", original_description)\n",
    "\n",
    "# Compare the generated answer to the original description\n",
    "from difflib import SequenceMatcher\n",
    "\n",
    "def similarity(a, b):\n",
    "    return SequenceMatcher(None, a, b).ratio()\n",
    "\n",
    "similarity_score = similarity(original_description, generated_answer)\n",
    "print(f\"Similarity Score: {similarity_score:.2f}\")"
   ]
  },
  {
   "cell_type": "markdown",
   "metadata": {},
   "source": [
    "In this particular case the 89% of accuracy is very satisfactory, indicating models successful performance."
   ]
  },
  {
   "cell_type": "markdown",
   "metadata": {},
   "source": [
    "#### Limitations:"
   ]
  },
  {
   "cell_type": "code",
   "execution_count": 17,
   "metadata": {},
   "outputs": [
    {
     "name": "stdout",
     "output_type": "stream",
     "text": [
      "Yes, you have Covid-19. It is a virus that is spread by contact with the respiratory mucosa of the respiratory tract. The respiratory mucosa is the mucous\n"
     ]
    }
   ],
   "source": [
    "# Another test query\n",
    "query = \"If I have fewer and caught do I have Covid-19?\"\n",
    "result = query_pinecone(query, top_k=5)\n",
    "formatted_query = format_query(query, result[\"matches\"])\n",
    "answer = generate_answer(formatted_query)\n",
    "print(answer)"
   ]
  },
  {
   "cell_type": "markdown",
   "metadata": {},
   "source": [
    "Although the generated answer seems reasonable based on the source, it does not end at a natural sentence boundary, such as at the end of a sentence or after a period. This is because we have to explicitely indicate the size of the answer beforehand. In our model it is 38 characters."
   ]
  },
  {
   "cell_type": "code",
   "execution_count": 18,
   "metadata": {},
   "outputs": [
    {
     "name": "stdout",
     "output_type": "stream",
     "text": [
      "Malaria is caused by a single-celled parasite that lives in the blood of humans. It is spread exclusively through bites of infected female Anopheles mosquitoes. The parasite is\n"
     ]
    }
   ],
   "source": [
    "# Another test query\n",
    "query = \"What causes Malaria?\"\n",
    "result = query_pinecone(query, top_k=5)\n",
    "formatted_query = format_query(query, result[\"matches\"])\n",
    "answer = generate_answer(formatted_query)\n",
    "print(answer)"
   ]
  },
  {
   "cell_type": "markdown",
   "metadata": {},
   "source": [
    "____________________________________________"
   ]
  },
  {
   "cell_type": "markdown",
   "metadata": {},
   "source": [
    "# Translation: "
   ]
  },
  {
   "cell_type": "markdown",
   "metadata": {},
   "source": [
    "### As it was the aim of the project to make it user friendly and diverse, we offer the application in multiple languages:"
   ]
  },
  {
   "cell_type": "markdown",
   "metadata": {},
   "source": [
    "---\n",
    "\n",
    "**Please choose your language by its abbreviation. Refer to the list below for the correct abbreviations:**\n",
    "\n",
    "1. **English** - `en`\n",
    "2. **Spanish** - `es`\n",
    "3. **Chinese (Simplified)** - `zh-CN`\n",
    "4. **Hindi** - `hi`\n",
    "5. **Arabic** - `ar`\n",
    "6. **Portuguese** - `pt`\n",
    "7. **Bengali** - `bn`\n",
    "8. **Russian** - `ru`\n",
    "9. **Japanese** - `ja`\n",
    "10. **Punjabi** - `pa`\n",
    "11. **German** - `de`\n",
    "12. **Javanese** - `jv`\n",
    "13. **Korean** - `ko`\n",
    "14. **French** - `fr`\n",
    "15. **Telugu** - `te`\n",
    "16. **Marathi** - `mr`\n",
    "17. **Tamil** - `ta`\n",
    "18. **Turkish** - `tr`\n",
    "19. **Vietnamese** - `vi`\n",
    "20. **Italian** - `it`\n",
    "21. **Swahili** - `sw`\n",
    "22. **Amharic** - `am`\n",
    "23. **Yoruba** - `yo`\n",
    "24. **Zulu** - `zu`\n",
    "25. **Hausa** - `ha`\n",
    "26. **Igbo** - `ig`\n",
    "27. **Afrikaans** - `af`\n",
    "28. **Shona** - `sn`\n",
    "29. **Somali** - `so`\n",
    "30. **Oromo** - `om`\n",
    "31. **Xhosa** - `xh`\n",
    "32. **Wolof** - `wo`\n",
    "33. **Sesotho** - `st`\n",
    "34. **Kinyarwanda** - `rw`\n",
    "35. **Twi** - `tw`\n",
    "\n",
    "---\n",
    "\n",
    "Feel free to replace or add any other languages and their abbreviations as needed."
   ]
  },
  {
   "cell_type": "markdown",
   "metadata": {},
   "source": [
    "#### Use case:"
   ]
  },
  {
   "cell_type": "markdown",
   "metadata": {},
   "source": [
    "**Afikaans**"
   ]
  },
  {
   "cell_type": "code",
   "execution_count": 19,
   "metadata": {},
   "outputs": [],
   "source": [
    "Language='af'"
   ]
  },
  {
   "cell_type": "markdown",
   "metadata": {},
   "source": [
    "## Place your question in the below cell:"
   ]
  },
  {
   "cell_type": "code",
   "execution_count": 20,
   "metadata": {},
   "outputs": [],
   "source": [
    "text= 'Wat veroorsaak Malaria?'"
   ]
  },
  {
   "cell_type": "markdown",
   "metadata": {},
   "source": [
    "Since the original dataframe is in English, the question asked is also coverted into Eglish first and then its possible to generate the answer."
   ]
  },
  {
   "cell_type": "code",
   "execution_count": 21,
   "metadata": {},
   "outputs": [
    {
     "name": "stdout",
     "output_type": "stream",
     "text": [
      "What causes malaria?\n"
     ]
    }
   ],
   "source": [
    "translator =Translator()\n",
    "translation = translator.translate(text,src=Language,dest=\"en\")\n",
    "print(translation.text)"
   ]
  },
  {
   "cell_type": "markdown",
   "metadata": {},
   "source": [
    "The primary answer is generated in English:"
   ]
  },
  {
   "cell_type": "code",
   "execution_count": 22,
   "metadata": {},
   "outputs": [
    {
     "name": "stdout",
     "output_type": "stream",
     "text": [
      "Malaria is caused by a single-celled parasite, Plasmodium falciparum. It is spread by the bite of an infected female Anopheles mosquito\n"
     ]
    }
   ],
   "source": [
    "query = text\n",
    "result = query_pinecone(query, top_k=5)\n",
    "formatted_query = format_query(query, result[\"matches\"])\n",
    "answer = generate_answer(formatted_query)\n",
    "print(answer)"
   ]
  },
  {
   "cell_type": "markdown",
   "metadata": {},
   "source": [
    "In the last step the the user sees the answer in the language the question was asked:"
   ]
  },
  {
   "cell_type": "code",
   "execution_count": 23,
   "metadata": {},
   "outputs": [
    {
     "name": "stdout",
     "output_type": "stream",
     "text": [
      "Malaria word veroorsaak deur 'n enkel-sel-parasiet, Plasmodium falciparum.Dit word versprei deur die byt van 'n besmette vroulike Anopheles -muskiet\n"
     ]
    }
   ],
   "source": [
    "translation = translator.translate(answer,src=\"en\",dest=Language)\n",
    "print(translation.text)"
   ]
  },
  {
   "cell_type": "markdown",
   "metadata": {},
   "source": [
    "-------------------------------------"
   ]
  },
  {
   "cell_type": "markdown",
   "metadata": {},
   "source": [
    "### Overall, the current model performs adequately by generating relevant answers, yet there is room for enhancement to produce more sophisticated responses. Future iterations could incorporate additional data sources beyond Wikipedia, such as electronic medical records and medical databases. This expansion would enable users to fully leverage the application for obtaining diagnoses and treatment plans in a single platform. Such advancements would significantly enrich the utility and effectiveness of the tool for medical information retrieval and application."
   ]
  },
  {
   "cell_type": "markdown",
   "metadata": {},
   "source": [
    "________________________________"
   ]
  },
  {
   "cell_type": "markdown",
   "metadata": {},
   "source": [
    "### References:\n",
    "\n",
    "https://app.pinecone.io/organizations/-O0VXl-_t1-kDERBXpAf/projects/2af1164d-5ab0-46ec-80ef-147c02b8055c/indexes\n",
    "\n",
    "https://www.youtube.com/watch?v=L8U-pm-vZ4c\n",
    "\n",
    "https://www.youtube.com/watch?v=8PW1VrsHFjc"
   ]
  }
 ],
 "metadata": {
  "kernelspec": {
   "display_name": "venvAni",
   "language": "python",
   "name": "python3"
  },
  "language_info": {
   "codemirror_mode": {
    "name": "ipython",
    "version": 3
   },
   "file_extension": ".py",
   "mimetype": "text/x-python",
   "name": "python",
   "nbconvert_exporter": "python",
   "pygments_lexer": "ipython3",
   "version": "3.11.6"
  }
 },
 "nbformat": 4,
 "nbformat_minor": 2
}
